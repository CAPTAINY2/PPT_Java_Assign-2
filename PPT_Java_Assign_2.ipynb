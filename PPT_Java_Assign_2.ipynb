{
  "nbformat": 4,
  "nbformat_minor": 0,
  "metadata": {
    "colab": {
      "provenance": [],
      "authorship_tag": "ABX9TyNTerrOTiwYQXHh13aIDRNj",
      "include_colab_link": true
    },
    "kernelspec": {
      "name": "python3",
      "display_name": "Python 3"
    },
    "language_info": {
      "name": "python"
    }
  },
  "cells": [
    {
      "cell_type": "markdown",
      "metadata": {
        "id": "view-in-github",
        "colab_type": "text"
      },
      "source": [
        "<a href=\"https://colab.research.google.com/github/CAPTAINY2/PPT_Java_Assign-2/blob/main/PPT_Java_Assign_2.ipynb\" target=\"_parent\"><img src=\"https://colab.research.google.com/assets/colab-badge.svg\" alt=\"Open In Colab\"/></a>"
      ]
    },
    {
      "cell_type": "markdown",
      "source": [
        "### QUESTION-1"
      ],
      "metadata": {
        "id": "ddAmDvW536xC"
      }
    },
    {
      "cell_type": "markdown",
      "source": [
        "In Java, conditional operators, also known as relational operators, are used to compare values and determine the relationship between them. These operators return a boolean value (true or false) based on the evaluation of the specified condition.\n",
        "The following are the conditional operators in Java:\n",
        "\n",
        "**Equal** to (==): Compares two values for equality. It returns true if the values are equal, and false otherwise.\n",
        "\n",
        "**Not** **equal** **to** (!=): Compares two values for inequality. It returns true if the values are not equal, and false if they are equal.\n",
        "\n",
        "**Greater** **than** (>): Checks if the value on the left is greater than the value on the right. It returns true if the condition is satisfied, and false otherwise.\n",
        "\n",
        "**Less** **than** (<): Checks if the value on the left is less than the value on the right. It returns true if the condition is satisfied, and false otherwise.\n",
        "\n",
        "**Greater** **than** **or** **equal** **to** (>=): Checks if the value on the left is greater than or equal to the value on the right. It returns true if the condition is satisfied, and false otherwise.\n",
        "\n",
        "**Less** **than** **or** **equal** **to** (<=): Checks if the value on the left is less than or equal to the value on the right. It returns true if the condition is satisfied, and false otherwise.\n",
        "\n"
      ],
      "metadata": {
        "id": "2ZiJOFxW35VS"
      }
    },
    {
      "cell_type": "markdown",
      "source": [
        "### QUESTION-2"
      ],
      "metadata": {
        "id": "Z7E3A4YH5XC_"
      }
    },
    {
      "cell_type": "markdown",
      "source": [
        "Operators in programming can be classified into different types based on the number of operands they work on.\n",
        "\n",
        "**Unary** **Operators**: Unary operators work with a single operand. They perform operations on a single value or variable. Some examples of unary operators are:\n",
        "* Unary Plus (+): Represents the positive value of a numeric expression.\n",
        "* Unary Minus (-): Negates the value of a numeric expression.\n",
        "* Increment (++) and Decrement (--): Increase or decrease the value of a\n",
        " variable by 1.\n",
        "* Logical NOT (!): Inverts the boolean value of an expression.\n",
        "\n",
        "**Binary** **Operators**: Binary operators work with two operands. They perform operations between two values or variables. Some examples of binary operators are:\n",
        "* Arithmetic Operators: Addition (+), Subtraction (-), Multiplication (*), Division (/), Modulo (%).\n",
        "* Relational Operators: Greater than (>), Less than (<), Greater than or equal to (>=), Less than or equal to (<=), Equal to (==), Not equal to (!=).\n",
        "* Logical Operators: Logical AND (&&), Logical OR (||).\n",
        "* Assignment Operators: Assign a value to a variable, such as =, +=, -=, *=, /=.\n",
        "* Ternary Operator: The ternary operator is the only operator in Java that takes three operands. It is also known as the conditional operator. It evaluates a condition and returns one of two values based on the result of the condition."
      ],
      "metadata": {
        "id": "jfAfiAPO5a-9"
      }
    },
    {
      "cell_type": "markdown",
      "source": [
        "### QUESTION-3"
      ],
      "metadata": {
        "id": "IM2efJvY9gmv"
      }
    },
    {
      "cell_type": "markdown",
      "source": [
        "The switch statement in Java is a control flow statement that allows you to select one of many code blocks to be executed based on the value of an expression. It provides an alternative to using multiple if-else statements when you have multiple conditions to check against a single variable.\n",
        "\n",
        "The primary use of the switch case in Java programming is to simplify decision-making based on different possible values of a variable. Here are some key aspects and benefits of using the switch case:\n",
        "\n",
        "* Simplified Syntax: The switch case provides a concise syntax compared to multiple if-else statements, especially when there are multiple possible conditions.\n",
        "\n",
        "* Code Readability: Using a switch case can make your code more readable and maintainable, particularly when dealing with a large number of potential conditions.\n",
        "\n",
        "* Multiple Branches: You can have multiple case labels within a switch statement, each representing a different possible value of the expression being evaluated.\n",
        "\n",
        "* Efficient Execution: The switch case is generally more efficient than a sequence of nested if-else statements, especially when the number of conditions is large. The switch statement allows the implementation to perform efficient jump table or lookup table optimizations to quickly determine the appropriate code block to execute."
      ],
      "metadata": {
        "id": "DsNbqK7m9kgJ"
      }
    },
    {
      "cell_type": "markdown",
      "source": [
        "### QUESTION-4"
      ],
      "metadata": {
        "id": "nKLeHlv9-rOQ"
      }
    },
    {
      "cell_type": "markdown",
      "source": [
        "Conditional statements in Java are used to control the flow of execution based on certain conditions. They allow the program to make decisions and perform different actions depending on the evaluation of one or more conditions. Java provides several conditional statements:\n",
        "\n",
        "* if statement:\n",
        "The if statement allows you to execute a block of code only if a specified condition is true.\n",
        "* if-else statement:\n",
        "The if-else statement adds an alternative block of code to be executed if the condition in the if statement is false.\n",
        "* if-else if-else statement:\n",
        "The if-else if-else statement allows you to check multiple conditions and execute different blocks of code accordingly.\n",
        "* switch statement:\n",
        "The switch statement provides a way to select one of many code blocks to be executed based on the value of an expression."
      ],
      "metadata": {
        "id": "LXu0fpxN-vhl"
      }
    },
    {
      "cell_type": "markdown",
      "source": [
        "### QUESTION-5"
      ],
      "metadata": {
        "id": "8kWBVlZG_hN7"
      }
    },
    {
      "cell_type": "markdown",
      "source": [
        "The syntax of the if-else statement in Java is as follows:\n",
        "\n",
        "* if: The keyword that initiates the if statement.\n",
        "\n",
        "* condition: A boolean expression that is evaluated. If the condition is true, the code block inside the if statement is executed. If the condition is false, the code block inside the else statement (optional) is executed.\n",
        "\n",
        "*code to be executed if the condition is true: The block of code that is executed if the condition in the if statement is true. It can be a single statement or a group of statements enclosed within curly braces {}.\n",
        "\n",
        "* else: The keyword that introduces the alternative block of code to be executed if the condition in the if statement is false. The else statement is optional, and it must come immediately after the closing curly brace of the if block.\n",
        "\n",
        "* code to be executed if the condition is false: The block of code that is executed if the condition in the if statement is false. It can be a single statement or a group of statements enclosed within curly braces {}."
      ],
      "metadata": {
        "id": "k73qRAX1_kO6"
      }
    },
    {
      "cell_type": "markdown",
      "source": [
        "### QUESTION-6"
      ],
      "metadata": {
        "id": "O-wZV2ONAoUw"
      }
    },
    {
      "cell_type": "markdown",
      "source": [
        "In Java, you can compare two strings for equality using the equals() method or the compareTo() method.\n",
        "\n",
        "* equals() method:\n",
        "The equals() method compares the content of two strings and returns true if the content is equal, and false otherwise. The comparison is case-sensitive, meaning that uppercase and lowercase characters are considered different.\n",
        "\n",
        "* compareTo() method:\n",
        "The compareTo() method compares two strings lexicographically and returns an integer value indicating their relative ordering. It returns a value less than 0 if the first string is lexicographically smaller, 0 if they are equal, and a value greater than 0 if the first string is lexicographically larger."
      ],
      "metadata": {
        "id": "50mT6NlpBKQl"
      }
    },
    {
      "cell_type": "markdown",
      "source": [
        "### QUESTION-7"
      ],
      "metadata": {
        "id": "GB-GQJTHBs4a"
      }
    },
    {
      "cell_type": "markdown",
      "source": [
        "In Java, strings are immutable, meaning their values cannot be changed once they are created. However, there is a mutable alternative to strings called StringBuilder or StringBuffer. These classes allow you to modify the contents of a string-like object without creating a new object each time.\n",
        "by these methods we change the strings:\n",
        "\n",
        "* append() appends the specified text to the end of the existing content.\n",
        "\n",
        "* insert() inserts the specified text at the specified position within the existing content.\n",
        "\n",
        "* replace() replaces a portion of the text with the specified text.\n",
        "\n",
        "* delete() removes a portion of the text."
      ],
      "metadata": {
        "id": "__XrC2AoBwAJ"
      }
    },
    {
      "cell_type": "markdown",
      "source": [
        "### QUESTION-8"
      ],
      "metadata": {
        "id": "H3c468TQCZvX"
      }
    },
    {
      "cell_type": "markdown",
      "source": [
        "to sort a string alphabetically in Java, you can use the String class's toCharArray() method to convert the string into an array of characters. Then, you can use the Arrays class's sort() method to sort the character array in ascending order. Finally, you can create a new string from the sorted character array. Here's an example:\n",
        "\n",
        "\n",
        "import java.util.Arrays;\n",
        "\n",
        "public class StringSorter {\n",
        "    public static void main(String[] args) {\n",
        "        String inputString = \"hello world\"\n",
        "\n",
        "        char[] charArray = inputString.toCharArray();\n",
        "\n",
        "        Arrays.sort(charArray);\n",
        "\n",
        "        String sortedString = new String(charArray);\n",
        "\n",
        "        System.out.println(\"Original String: \" + inputString);\n",
        "        System.out.println(\"Sorted String: \" + sortedString);\n",
        "    }\n",
        "}\n",
        "\n",
        "Output:\n",
        "    Original String: hello world\n",
        "\n",
        "    Sorted String:   dehllloorw\n"
      ],
      "metadata": {
        "id": "S91kzJwLJJol"
      }
    },
    {
      "cell_type": "markdown",
      "source": [
        "### QUESTION-9"
      ],
      "metadata": {
        "id": "hYecieUxKJ_h"
      }
    },
    {
      "cell_type": "markdown",
      "source": [
        "public class LetterCheck {\n",
        "    public static void main(String[] args) {\n",
        "        String word = \"Umbrella\";\n",
        "        boolean isPresent = word.contains(\"e\");\n",
        "\n",
        "        if (isPresent) {\n",
        "            System.out.println(\"The letter 'e' is present in the word.\");\n",
        "        } else {\n",
        "            System.out.println(\"The letter 'e' is not present in the word.\");\n",
        "        }\n",
        "    }\n",
        "}\n",
        "\n",
        "Output: The letter 'e' is present in the word.\n"
      ],
      "metadata": {
        "id": "Ty0hU1LJKqd7"
      }
    },
    {
      "cell_type": "markdown",
      "source": [
        "### QUESTION-10"
      ],
      "metadata": {
        "id": "Fs0pciQHLaV6"
      }
    },
    {
      "cell_type": "markdown",
      "source": [
        " in Java, the string constant pool is located within the Method Area or the PermGen/Metaspace, depending on the Java version."
      ],
      "metadata": {
        "id": "X-meBz7rLd49"
      }
    },
    {
      "cell_type": "code",
      "source": [],
      "metadata": {
        "id": "pSf9V-OcKgx6"
      },
      "execution_count": null,
      "outputs": []
    }
  ]
}